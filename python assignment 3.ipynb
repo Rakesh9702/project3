{
 "cells": [
  {
   "cell_type": "code",
   "execution_count": 1,
   "id": "4873681d-89f6-431f-af79-7dc312d0385b",
   "metadata": {},
   "outputs": [
    {
     "name": "stdout",
     "output_type": "stream",
     "text": [
      "1\n",
      "2\n",
      "3\n",
      "4\n",
      "5\n",
      "6\n",
      "7\n",
      "8\n",
      "9\n",
      "10\n"
     ]
    }
   ],
   "source": [
    "# BASIC LEVEL\n",
    "#Q.1. Write a Python program to print the numbers from 1 to 10 using a `for` loop.\n",
    "for i in range(1, 11):\n",
    "    print(i)"
   ]
  },
  {
   "cell_type": "code",
   "execution_count": 2,
   "id": "64438cb2-4c69-4585-915e-8882303eea0e",
   "metadata": {},
   "outputs": [
    {
     "name": "stdout",
     "output_type": "stream",
     "text": [
      "The sum of the numbers is: 150\n"
     ]
    }
   ],
   "source": [
    "#Q.2. Create a program that calculates the sum of all numbers in a list using a `for` loop.\n",
    "# Define a list of numbers\n",
    "numbers = [10, 20, 30, 40, 50]\n",
    "\n",
    "# Initialize a variable to store the sum\n",
    "sum_of_numbers = 0\n",
    "\n",
    "# Use a for loop to iterate through the list and calculate the sum\n",
    "for num in numbers:\n",
    "    sum_of_numbers += num\n",
    "\n",
    "# Print the sum\n",
    "print(\"The sum of the numbers is:\", sum_of_numbers)"
   ]
  },
  {
   "cell_type": "code",
   "execution_count": 3,
   "id": "ddb1874d-860f-42eb-bbaa-053e2c383656",
   "metadata": {},
   "outputs": [
    {
     "name": "stdout",
     "output_type": "stream",
     "text": [
      "Reversed string: !dlroW ,olleH\n"
     ]
    }
   ],
   "source": [
    "#Q.3. Write a program to print the characters of a string in reverse order using a `for` loop.\n",
    "# Input string\n",
    "input_string = \"Hello, World!\"\n",
    "\n",
    "# Initialize an empty string to store the reversed characters\n",
    "reversed_string = \"\"\n",
    "\n",
    "# Use a for loop to iterate through the string in reverse order\n",
    "for char in reversed(input_string):\n",
    "    reversed_string += char\n",
    "\n",
    "# Print the reversed string\n",
    "print(\"Reversed string:\", reversed_string)"
   ]
  },
  {
   "cell_type": "code",
   "execution_count": 4,
   "id": "7c7071c8-acdb-4d77-806f-ba599cc13341",
   "metadata": {},
   "outputs": [
    {
     "name": "stdin",
     "output_type": "stream",
     "text": [
      "Enter a number:  10\n"
     ]
    },
    {
     "name": "stdout",
     "output_type": "stream",
     "text": [
      "The factorial of 10 is 3628800\n"
     ]
    }
   ],
   "source": [
    "#Q.4. Develop a program that finds the factorial of a given number using a `for` loop.\n",
    "# Input: Get the number for which you want to calculate the factorial\n",
    "num = int(input(\"Enter a number: \"))\n",
    "\n",
    "# Initialize a variable to store the factorial\n",
    "factorial = 1\n",
    "\n",
    "# Use a for loop to calculate the factorial\n",
    "for i in range(1, num + 1):\n",
    "    factorial *= i\n",
    "\n",
    "# Print the factorial\n",
    "print(f\"The factorial of {num} is {factorial}\")"
   ]
  },
  {
   "cell_type": "code",
   "execution_count": 5,
   "id": "b316fb3b-6b79-4787-af34-e37c4afad4ba",
   "metadata": {},
   "outputs": [
    {
     "name": "stdin",
     "output_type": "stream",
     "text": [
      "Enter a number:  12\n"
     ]
    },
    {
     "name": "stdout",
     "output_type": "stream",
     "text": [
      "Multiplication table for 12:\n",
      "12 x 1 = 12\n",
      "12 x 2 = 24\n",
      "12 x 3 = 36\n",
      "12 x 4 = 48\n",
      "12 x 5 = 60\n",
      "12 x 6 = 72\n",
      "12 x 7 = 84\n",
      "12 x 8 = 96\n",
      "12 x 9 = 108\n",
      "12 x 10 = 120\n"
     ]
    }
   ],
   "source": [
    "#Q.5. Create a program to print the multiplication table of a given number using a `for` loop.\n",
    "# Input: Get the number for which you want to print the multiplication table\n",
    "num = int(input(\"Enter a number: \"))\n",
    "\n",
    "# Use a for loop to print the multiplication table\n",
    "print(f\"Multiplication table for {num}:\")\n",
    "\n",
    "for i in range(1, 11):\n",
    "    result = num * i\n",
    "    print(f\"{num} x {i} = {result}\")"
   ]
  },
  {
   "cell_type": "code",
   "execution_count": 6,
   "id": "35dcc1f4-0bb1-425c-ba27-741d06c32732",
   "metadata": {},
   "outputs": [
    {
     "name": "stdout",
     "output_type": "stream",
     "text": [
      "Number of even numbers: 5\n",
      "Number of odd numbers: 4\n"
     ]
    }
   ],
   "source": [
    "#Q.6. Write a program that counts the number of even and odd numbers in a list using a `for` loop.\n",
    "# Define a list of numbers\n",
    "numbers = [10, 21, 30, 42, 55, 68, 73, 84, 99]\n",
    "\n",
    "# Initialize counters for even and odd numbers\n",
    "even_count = 0\n",
    "odd_count = 0\n",
    "\n",
    "# Use a for loop to iterate through the list and count even and odd numbers\n",
    "for num in numbers:\n",
    "    if num % 2 == 0:\n",
    "        even_count += 1\n",
    "    else:\n",
    "        odd_count += 1\n",
    "\n",
    "# Print the counts\n",
    "print(\"Number of even numbers:\", even_count)\n",
    "print(\"Number of odd numbers:\", odd_count)"
   ]
  },
  {
   "cell_type": "code",
   "execution_count": 7,
   "id": "ab05bc48-f52a-4a7d-9705-8121c19a29e1",
   "metadata": {},
   "outputs": [
    {
     "name": "stdout",
     "output_type": "stream",
     "text": [
      "The square of 1 is 1\n",
      "The square of 2 is 4\n",
      "The square of 3 is 9\n",
      "The square of 4 is 16\n",
      "The square of 5 is 25\n"
     ]
    }
   ],
   "source": [
    "#Q.7. Develop a program that prints the squares of numbers from 1 to 5 using a `for` loop.\n",
    "# Use a for loop to print the squares of numbers from 1 to 5\n",
    "for num in range(1, 6):\n",
    "    square = num ** 2\n",
    "    print(f\"The square of {num} is {square}\")"
   ]
  },
  {
   "cell_type": "code",
   "execution_count": 8,
   "id": "b12c4df2-2888-4429-b4f5-3a939576c8e9",
   "metadata": {},
   "outputs": [
    {
     "name": "stdout",
     "output_type": "stream",
     "text": [
      "Length of the string: 13\n"
     ]
    }
   ],
   "source": [
    "#Q.8. Create a program to find the length of a string without using the `len()` function.\n",
    "# Input string\n",
    "input_string = \"Hello, World!\"\n",
    "\n",
    "# Initialize a counter for the length\n",
    "length = 0\n",
    "\n",
    "# Use a for loop to count the characters\n",
    "for char in input_string:\n",
    "    length += 1\n",
    "\n",
    "# Print the length of the string\n",
    "print(\"Length of the string:\", length)"
   ]
  },
  {
   "cell_type": "code",
   "execution_count": 9,
   "id": "e88b0c3f-163a-41db-abc9-b312da30fa69",
   "metadata": {},
   "outputs": [
    {
     "name": "stdout",
     "output_type": "stream",
     "text": [
      "The average is: 30.0\n"
     ]
    }
   ],
   "source": [
    "#Q.9. Write a program that calculates the average of a list of numbers using a `for` loop.\n",
    "# Define a list of numbers\n",
    "numbers = [10, 20, 30, 40, 50]\n",
    "\n",
    "# Initialize variables for sum and count\n",
    "total = 0\n",
    "count = 0\n",
    "\n",
    "# Use a for loop to calculate the sum and count\n",
    "for num in numbers:\n",
    "    total += num\n",
    "    count += 1\n",
    "\n",
    "# Calculate the average\n",
    "average = total / count\n",
    "\n",
    "# Print the average\n",
    "print(\"The average is:\", average)"
   ]
  },
  {
   "cell_type": "code",
   "execution_count": 10,
   "id": "188a868d-75f3-416f-92a6-2b30d133b872",
   "metadata": {},
   "outputs": [
    {
     "name": "stdin",
     "output_type": "stream",
     "text": [
      "Enter the number of Fibonacci numbers to generate:  45\n"
     ]
    },
    {
     "name": "stdout",
     "output_type": "stream",
     "text": [
      "Fibonacci series:\n",
      "0 1 1 2 3 5 8 13 21 34 55 89 144 233 377 610 987 1597 2584 4181 6765 10946 17711 28657 46368 75025 121393 196418 317811 514229 832040 1346269 2178309 3524578 5702887 9227465 14930352 24157817 39088169 63245986 102334155 165580141 267914296 433494437 701408733 "
     ]
    }
   ],
   "source": [
    "#Q.10. Develop a program that prints the first `n` Fibonacci numbers using a `for` loop.\n",
    "# Input: Get the value of n\n",
    "n = int(input(\"Enter the number of Fibonacci numbers to generate: \"))\n",
    "\n",
    "# Initialize the first two Fibonacci numbers\n",
    "fibonacci_series = [0, 1]\n",
    "\n",
    "# Use a for loop to generate the Fibonacci numbers\n",
    "for i in range(2, n):\n",
    "    next_number = fibonacci_series[i - 1] + fibonacci_series[i - 2]\n",
    "    fibonacci_series.append(next_number)\n",
    "\n",
    "# Print the Fibonacci series\n",
    "print(\"Fibonacci series:\")\n",
    "for number in fibonacci_series:\n",
    "    print(number, end=\" \")"
   ]
  },
  {
   "cell_type": "code",
   "execution_count": 11,
   "id": "79ae502d-bc63-4b8a-819c-5788a9128f79",
   "metadata": {},
   "outputs": [
    {
     "name": "stdout",
     "output_type": "stream",
     "text": [
      "The list contains duplicates.\n"
     ]
    }
   ],
   "source": [
    "# INTERMEDIATE LEVEL:\n",
    "#Q.11. Write a program to check if a given list contains any duplicates using a `for` loop.\n",
    "# Define a list of elements\n",
    "my_list = [10, 20, 30, 40, 10, 50]\n",
    "\n",
    "# Initialize a flag variable to indicate the presence of duplicates\n",
    "has_duplicates = False\n",
    "\n",
    "# Use a for loop to iterate through the list\n",
    "for i in range(len(my_list)):\n",
    "    for j in range(i + 1, len(my_list)):\n",
    "        if my_list[i] == my_list[j]:\n",
    "            has_duplicates = True\n",
    "            break\n",
    "\n",
    "# Check the flag and print the result\n",
    "if has_duplicates:\n",
    "    print(\"The list contains duplicates.\")\n",
    "else:\n",
    "    print(\"The list does not contain duplicates.\")"
   ]
  },
  {
   "cell_type": "code",
   "execution_count": 12,
   "id": "24c019fb-8d26-41d5-ba8c-3fb439a8b07d",
   "metadata": {},
   "outputs": [
    {
     "name": "stdin",
     "output_type": "stream",
     "text": [
      "Enter the lower bound of the range:  4\n",
      "Enter the upper bound of the range:  5\n"
     ]
    },
    {
     "name": "stdout",
     "output_type": "stream",
     "text": [
      "Prime numbers in the range from 4 to 5:\n",
      "5\n"
     ]
    }
   ],
   "source": [
    "#Q.12. Create a program that prints the prime numbers in a given range using a `for` loop.\n",
    "# Input: Get the lower and upper bounds of the range\n",
    "lower = int(input(\"Enter the lower bound of the range: \"))\n",
    "upper = int(input(\"Enter the upper bound of the range: \"))\n",
    "\n",
    "print(f\"Prime numbers in the range from {lower} to {upper}:\")\n",
    "\n",
    "# Use a for loop to check each number in the range\n",
    "for num in range(lower, upper + 1):\n",
    "    if num > 1:\n",
    "        is_prime = True\n",
    "        for i in range(2, int(num ** 0.5) + 1):\n",
    "            if num % i == 0:\n",
    "                is_prime = False\n",
    "                break\n",
    "        if is_prime:\n",
    "            print(num)"
   ]
  },
  {
   "cell_type": "code",
   "execution_count": 13,
   "id": "b2e86396-c37b-4703-8f5e-8dcbfa5652af",
   "metadata": {},
   "outputs": [
    {
     "name": "stdin",
     "output_type": "stream",
     "text": [
      "Enter a string:  world is so big\n"
     ]
    },
    {
     "name": "stdout",
     "output_type": "stream",
     "text": [
      "Number of vowels in the string: 4\n"
     ]
    }
   ],
   "source": [
    "#Q.13. Develop a program that counts the number of vowels in a string using a `for` loop.\n",
    "# Input: Get the input string from the user\n",
    "input_string = input(\"Enter a string: \")\n",
    "\n",
    "# Initialize a counter for vowels\n",
    "vowel_count = 0\n",
    "\n",
    "# Convert the input string to lowercase for case-insensitive counting\n",
    "input_string = input_string.lower()\n",
    "\n",
    "# Define a list of vowels\n",
    "vowels = \"aeiou\"\n",
    "\n",
    "# Use a for loop to iterate through the characters in the string\n",
    "for char in input_string:\n",
    "    if char in vowels:\n",
    "        vowel_count += 1\n",
    "\n",
    "# Print the count of vowels\n",
    "print(\"Number of vowels in the string:\", vowel_count)"
   ]
  },
  {
   "cell_type": "code",
   "execution_count": 14,
   "id": "8f6d7d43-a98c-4de4-a2fe-38998703b329",
   "metadata": {},
   "outputs": [
    {
     "name": "stdout",
     "output_type": "stream",
     "text": [
      "The maximum element in the matrix is: 90\n"
     ]
    }
   ],
   "source": [
    "#Q.14. Write a program to find the maximum element in a 2D list using a nested `for` loop.\n",
    "# Define a 2D list (matrix)\n",
    "matrix = [\n",
    "    [10, 20, 30],\n",
    "    [40, 50, 60],\n",
    "    [70, 80, 90]\n",
    "]\n",
    "\n",
    "# Initialize a variable to store the maximum element\n",
    "max_element = matrix[0][0]  # Assume the first element as the maximum\n",
    "\n",
    "# Use nested for loops to iterate through the matrix\n",
    "for row in matrix:\n",
    "    for num in row:\n",
    "        if num > max_element:\n",
    "            max_element = num\n",
    "\n",
    "# Print the maximum element\n",
    "print(\"The maximum element in the matrix is:\", max_element)"
   ]
  },
  {
   "cell_type": "code",
   "execution_count": 15,
   "id": "01347726-ee1e-4ab9-975a-9f21ae747cf7",
   "metadata": {},
   "outputs": [
    {
     "name": "stdin",
     "output_type": "stream",
     "text": [
      "Enter the element to remove:  10\n"
     ]
    },
    {
     "name": "stdout",
     "output_type": "stream",
     "text": [
      "List after removing all occurrences of 10 : [20, 30, 20, 40, 50, 20]\n"
     ]
    }
   ],
   "source": [
    "#Q.15. Create a program that removes all occurrences of a specific element from a list using a `for` loop.\n",
    "# Define a list\n",
    "my_list = [10, 20, 30, 20, 40, 50, 20]\n",
    "\n",
    "# Input: Get the element to remove from the list\n",
    "element_to_remove = int(input(\"Enter the element to remove: \"))\n",
    "\n",
    "# Use a for loop to remove all occurrences of the element\n",
    "for item in my_list[:]:  # Using a copy of the list to avoid modification during iteration\n",
    "    if item == element_to_remove:\n",
    "        my_list.remove(item)\n",
    "\n",
    "# Print the modified list\n",
    "print(\"List after removing all occurrences of\", element_to_remove, \":\", my_list)"
   ]
  },
  {
   "cell_type": "code",
   "execution_count": 16,
   "id": "7982e4a3-bfeb-4489-b8ad-aebb3e675c35",
   "metadata": {},
   "outputs": [
    {
     "name": "stdout",
     "output_type": "stream",
     "text": [
      "Multiplication table for 1:\n",
      "1 x 1 = 1\n",
      "1 x 2 = 2\n",
      "1 x 3 = 3\n",
      "1 x 4 = 4\n",
      "1 x 5 = 5\n",
      "1 x 6 = 6\n",
      "1 x 7 = 7\n",
      "1 x 8 = 8\n",
      "1 x 9 = 9\n",
      "1 x 10 = 10\n",
      "\n",
      "Multiplication table for 2:\n",
      "2 x 1 = 2\n",
      "2 x 2 = 4\n",
      "2 x 3 = 6\n",
      "2 x 4 = 8\n",
      "2 x 5 = 10\n",
      "2 x 6 = 12\n",
      "2 x 7 = 14\n",
      "2 x 8 = 16\n",
      "2 x 9 = 18\n",
      "2 x 10 = 20\n",
      "\n",
      "Multiplication table for 3:\n",
      "3 x 1 = 3\n",
      "3 x 2 = 6\n",
      "3 x 3 = 9\n",
      "3 x 4 = 12\n",
      "3 x 5 = 15\n",
      "3 x 6 = 18\n",
      "3 x 7 = 21\n",
      "3 x 8 = 24\n",
      "3 x 9 = 27\n",
      "3 x 10 = 30\n",
      "\n",
      "Multiplication table for 4:\n",
      "4 x 1 = 4\n",
      "4 x 2 = 8\n",
      "4 x 3 = 12\n",
      "4 x 4 = 16\n",
      "4 x 5 = 20\n",
      "4 x 6 = 24\n",
      "4 x 7 = 28\n",
      "4 x 8 = 32\n",
      "4 x 9 = 36\n",
      "4 x 10 = 40\n",
      "\n",
      "Multiplication table for 5:\n",
      "5 x 1 = 5\n",
      "5 x 2 = 10\n",
      "5 x 3 = 15\n",
      "5 x 4 = 20\n",
      "5 x 5 = 25\n",
      "5 x 6 = 30\n",
      "5 x 7 = 35\n",
      "5 x 8 = 40\n",
      "5 x 9 = 45\n",
      "5 x 10 = 50\n",
      "\n"
     ]
    }
   ],
   "source": [
    "#Q.16. Develop a program that generates a multiplication table for numbers from 1 to 5 using a nested `for` loop.\n",
    "# Use nested for loops to generate the multiplication table\n",
    "for i in range(1, 6):\n",
    "    print(f\"Multiplication table for {i}:\")\n",
    "    for j in range(1, 11):\n",
    "        result = i * j\n",
    "        print(f\"{i} x {j} = {result}\")\n",
    "    print()  # Add a blank line for separation between tables"
   ]
  },
  {
   "cell_type": "code",
   "execution_count": 17,
   "id": "22055f07-b00b-43bd-ab94-5bc0bb94c9fd",
   "metadata": {},
   "outputs": [
    {
     "name": "stdout",
     "output_type": "stream",
     "text": [
      "Fahrenheit temperatures: [32, 68, 86, 104, 122]\n",
      "Celsius temperatures: [0.0, 20.0, 30.0, 40.0, 50.0]\n"
     ]
    }
   ],
   "source": [
    "#Q.17. Write a program that converts a list of Fahrenheit temperatures to Celsius using a `for` loop.\n",
    "# Define a list of Fahrenheit temperatures\n",
    "fahrenheit_temperatures = [32, 68, 86, 104, 122]\n",
    "\n",
    "# Initialize an empty list to store Celsius temperatures\n",
    "celsius_temperatures = []\n",
    "\n",
    "# Use a for loop to convert Fahrenheit to Celsius\n",
    "for fahrenheit in fahrenheit_temperatures:\n",
    "    celsius = (fahrenheit - 32) * 5/9\n",
    "    celsius_temperatures.append(celsius)\n",
    "\n",
    "# Print the converted Celsius temperatures\n",
    "print(\"Fahrenheit temperatures:\", fahrenheit_temperatures)\n",
    "print(\"Celsius temperatures:\", celsius_temperatures)"
   ]
  },
  {
   "cell_type": "code",
   "execution_count": 18,
   "id": "3ca6edd8-a4f0-416f-9f88-32688b94103e",
   "metadata": {},
   "outputs": [
    {
     "name": "stdout",
     "output_type": "stream",
     "text": [
      "Common elements: [3, 4, 5]\n"
     ]
    }
   ],
   "source": [
    "#Q.18. Create a program to print the common elements from two lists using a `for` loop.\n",
    "# Define two lists\n",
    "list1 = [1, 2, 3, 4, 5]\n",
    "list2 = [3, 4, 5, 6, 7]\n",
    "\n",
    "# Initialize an empty list to store common elements\n",
    "common_elements = []\n",
    "\n",
    "# Use a for loop to iterate through the elements of the first list\n",
    "for element1 in list1:\n",
    "    # Use another for loop to compare with elements in the second list\n",
    "    for element2 in list2:\n",
    "        # If a common element is found, add it to the common_elements list\n",
    "        if element1 == element2:\n",
    "            common_elements.append(element1)\n",
    "            break  # Break out of the inner loop once a match is found\n",
    "\n",
    "# Print the common elements\n",
    "print(\"Common elements:\", common_elements)"
   ]
  },
  {
   "cell_type": "code",
   "execution_count": 19,
   "id": "954b5e7a-03e9-4978-beaf-5ba6b027a279",
   "metadata": {},
   "outputs": [
    {
     "name": "stdin",
     "output_type": "stream",
     "text": [
      "Enter the number of rows for the right-angled triangle:  3\n"
     ]
    },
    {
     "name": "stdout",
     "output_type": "stream",
     "text": [
      "*\n",
      "**\n",
      "***\n"
     ]
    }
   ],
   "source": [
    "#Q.19. Develop a program that prints the pattern of right-angled triangles using a `for` loop. Use ‘*’ to draw the pattern\n",
    "# Input: Get the number of rows for the triangle from the user\n",
    "num_rows = int(input(\"Enter the number of rows for the right-angled triangle: \"))\n",
    "\n",
    "# Use a for loop to print the triangle pattern\n",
    "for i in range(1, num_rows + 1):\n",
    "    print('*' * i)"
   ]
  },
  {
   "cell_type": "code",
   "execution_count": 20,
   "id": "25632f13-3675-4a83-a291-ca34b6f132cc",
   "metadata": {},
   "outputs": [
    {
     "name": "stdin",
     "output_type": "stream",
     "text": [
      "Enter the first number:  5\n",
      "Enter the second number:  8\n"
     ]
    },
    {
     "name": "stdout",
     "output_type": "stream",
     "text": [
      "The greatest common divisor (GCD) of 5 and 8 is 1\n"
     ]
    }
   ],
   "source": [
    "#Q.20. Write a program to find the greatest common divisor (GCD) of two numbers using a `for` loop.\n",
    "# Input: Get the two numbers from the user\n",
    "num1 = int(input(\"Enter the first number: \"))\n",
    "num2 = int(input(\"Enter the second number: \"))\n",
    "\n",
    "# Initialize variables to store the numbers\n",
    "a = num1\n",
    "b = num2\n",
    "\n",
    "# Use a for loop to calculate the GCD\n",
    "while b:\n",
    "    a, b = b, a % b\n",
    "\n",
    "# The GCD is stored in 'a'\n",
    "gcd = a\n",
    "\n",
    "# Print the GCD\n",
    "print(f\"The greatest common divisor (GCD) of {num1} and {num2} is {gcd}\")"
   ]
  },
  {
   "cell_type": "code",
   "execution_count": 21,
   "id": "4d391fab-bfa9-4c88-becb-b549b1139dff",
   "metadata": {},
   "outputs": [
    {
     "name": "stdout",
     "output_type": "stream",
     "text": [
      "Sum of digits for each number: [6, 15, 24, 3, 7]\n"
     ]
    }
   ],
   "source": [
    "# ADVANCED LEVEL:\n",
    "#Q.21. Create a program that calculates the sum of the digits of numbers in a list using a list comprehension.\n",
    "# Define a list of numbers\n",
    "numbers = [123, 456, 789, 12, 34]\n",
    "\n",
    "# Define a list comprehension to calculate the sum of digits for each number\n",
    "sum_of_digits = [sum(int(digit) for digit in str(num)) for num in numbers]\n",
    "\n",
    "# Print the list of sums\n",
    "print(\"Sum of digits for each number:\", sum_of_digits)"
   ]
  },
  {
   "cell_type": "code",
   "execution_count": 22,
   "id": "bbb30ce4-ca0b-4668-9d51-7a7eec49ebc3",
   "metadata": {},
   "outputs": [
    {
     "name": "stdin",
     "output_type": "stream",
     "text": [
      "Enter a number:  7\n"
     ]
    },
    {
     "name": "stdout",
     "output_type": "stream",
     "text": [
      "Prime factors of the original number: [7]\n"
     ]
    }
   ],
   "source": [
    "#Q.22. Write a program to find the prime factors of a given number using a `for` loop and list comprehension.\n",
    "# Input: Get the number for which you want to find prime factors\n",
    "number = int(input(\"Enter a number: \"))\n",
    "\n",
    "# Initialize a list to store the prime factors\n",
    "prime_factors = []\n",
    "\n",
    "# Use a for loop to find prime factors\n",
    "for divisor in range(2, number + 1):\n",
    "    while number % divisor == 0:\n",
    "        prime_factors.append(divisor)\n",
    "        number //= divisor\n",
    "\n",
    "# Print the prime factors using list comprehension\n",
    "print(f\"Prime factors of the original number: {prime_factors}\")"
   ]
  },
  {
   "cell_type": "code",
   "execution_count": 23,
   "id": "c310db72-4e0a-4d39-bdcc-84b4175aaf62",
   "metadata": {},
   "outputs": [
    {
     "name": "stdout",
     "output_type": "stream",
     "text": [
      "Original List: [1, 2, 2, 3, 4, 4, 5, 5, 6]\n",
      "Unique Elements: [1, 2, 3, 4, 5, 6]\n"
     ]
    }
   ],
   "source": [
    "#Q.23. Develop a program that extracts unique elements from a list and stores them in a new list using a list comprehension.\n",
    "# Define a list with duplicate elements\n",
    "original_list = [1, 2, 2, 3, 4, 4, 5, 5, 6]\n",
    "\n",
    "# Use a list comprehension to extract unique elements\n",
    "unique_list = [x for i, x in enumerate(original_list) if x not in original_list[:i]]\n",
    "\n",
    "# Print the unique elements\n",
    "print(\"Original List:\", original_list)\n",
    "print(\"Unique Elements:\", unique_list)"
   ]
  },
  {
   "cell_type": "code",
   "execution_count": 24,
   "id": "4cf32ea9-c949-418c-8303-95be8e9c3485",
   "metadata": {},
   "outputs": [
    {
     "name": "stdin",
     "output_type": "stream",
     "text": [
      "Enter a limit:  5\n"
     ]
    },
    {
     "name": "stdout",
     "output_type": "stream",
     "text": [
      "Palindromic numbers up to 5 : [1, 2, 3, 4, 5]\n"
     ]
    }
   ],
   "source": [
    "#Q.24. Create a program that generates a list of all palindromic numbers up to a specified limit using a list comprehension.\n",
    "# Input: Get the limit from the user\n",
    "limit = int(input(\"Enter a limit: \"))\n",
    "\n",
    "# Use a list comprehension to generate palindromic numbers\n",
    "palindromic_numbers = [num for num in range(1, limit + 1) if str(num) == str(num)[::-1]]\n",
    "\n",
    "# Print the list of palindromic numbers\n",
    "print(\"Palindromic numbers up to\", limit, \":\", palindromic_numbers)"
   ]
  },
  {
   "cell_type": "code",
   "execution_count": 25,
   "id": "0042d81b-5776-45ec-8190-1b48332f742f",
   "metadata": {},
   "outputs": [
    {
     "name": "stdout",
     "output_type": "stream",
     "text": [
      "Original Nested List: [[1, 2, 3], [4, 5], [6, 7, 8]]\n",
      "Flattened List: [1, 2, 3, 4, 5, 6, 7, 8]\n"
     ]
    }
   ],
   "source": [
    "#Q.25. Write a program to flatten a nested list using list comprehension.\n",
    "# Define a nested list\n",
    "nested_list = [[1, 2, 3], [4, 5], [6, 7, 8]]\n",
    "\n",
    "# Use list comprehension to flatten the nested list\n",
    "flattened_list = [item for sublist in nested_list for item in sublist]\n",
    "\n",
    "# Print the flattened list\n",
    "print(\"Original Nested List:\", nested_list)\n",
    "print(\"Flattened List:\", flattened_list)"
   ]
  },
  {
   "cell_type": "code",
   "execution_count": 27,
   "id": "dee15a9e-13c1-48c7-ad70-4d31d9059c55",
   "metadata": {},
   "outputs": [
    {
     "name": "stdout",
     "output_type": "stream",
     "text": [
      "List of Numbers: [10, 21, 30, 42, 55, 68, 73, 84, 99]\n",
      "Sum of Even Numbers: 234\n",
      "Sum of Odd Numbers: 248\n"
     ]
    }
   ],
   "source": [
    "#Q.26. Develop a program that computes the sum of even and odd numbers in a list separately using list comprehension.\n",
    "# Define a list of numbers\n",
    "numbers = [10, 21, 30, 42, 55, 68, 73, 84, 99]\n",
    "\n",
    "# Use list comprehension to compute the sum of even and odd numbers separately\n",
    "sum_even = sum([num for num in numbers if num % 2 == 0])\n",
    "sum_odd = sum([num for num in numbers if num % 2 != 0])\n",
    "\n",
    "# Print the sums\n",
    "print(\"List of Numbers:\", numbers)\n",
    "print(\"Sum of Even Numbers:\", sum_even)\n",
    "print(\"Sum of Odd Numbers:\", sum_odd)"
   ]
  },
  {
   "cell_type": "code",
   "execution_count": 29,
   "id": "18645923-940f-4dd0-8da2-321bd1f98df1",
   "metadata": {},
   "outputs": [
    {
     "name": "stdout",
     "output_type": "stream",
     "text": [
      "Squares of Odd Numbers between 1 and 10: [1, 9, 25, 49, 81]\n"
     ]
    }
   ],
   "source": [
    "#Q.27. Create a program that generates a list of squares of odd numbers between 1 and 10 using list comprehension.\n",
    "# Use list comprehension to generate a list of squares of odd numbers\n",
    "squares_of_odd_numbers = [num ** 2 for num in range(1, 11) if num % 2 != 0]\n",
    "\n",
    "# Print the list of squares\n",
    "print(\"Squares of Odd Numbers between 1 and 10:\", squares_of_odd_numbers)"
   ]
  },
  {
   "cell_type": "code",
   "execution_count": 30,
   "id": "9dbcd070-aacc-4358-a533-946eeb098996",
   "metadata": {},
   "outputs": [
    {
     "name": "stdout",
     "output_type": "stream",
     "text": [
      "Combined Dictionary: {'name': 'Alice', 'age': 25, 'city': 'New York'}\n"
     ]
    }
   ],
   "source": [
    "#Q.28. Write a program that combines two lists into a dictionary using list comprehension.\n",
    "# Define two lists\n",
    "keys = [\"name\", \"age\", \"city\"]\n",
    "values = [\"Alice\", 25, \"New York\"]\n",
    "\n",
    "# Use list comprehension to create a dictionary\n",
    "combined_dict = {keys[i]: values[i] for i in range(len(keys))}\n",
    "\n",
    "# Print the combined dictionary\n",
    "print(\"Combined Dictionary:\", combined_dict)"
   ]
  },
  {
   "cell_type": "code",
   "execution_count": 31,
   "id": "2dd4ad1a-73a0-421b-bcc8-3fdaba229ddd",
   "metadata": {},
   "outputs": [
    {
     "name": "stdin",
     "output_type": "stream",
     "text": [
      "Enter a string:  we are so lucky\n"
     ]
    },
    {
     "name": "stdout",
     "output_type": "stream",
     "text": [
      "Vowels in the string: ['e', 'a', 'e', 'o', 'u']\n"
     ]
    }
   ],
   "source": [
    "#Q.29. Develop a program that extracts the vowels from a string and stores them in a list using list comprehension.\n",
    "# Input: Get a string from the user\n",
    "input_string = input(\"Enter a string: \")\n",
    "\n",
    "# Use list comprehension to extract the vowels\n",
    "vowels = [char for char in input_string if char.lower() in \"aeiouAEIOU\"]\n",
    "\n",
    "# Print the list of vowels\n",
    "print(\"Vowels in the string:\", vowels)"
   ]
  },
  {
   "cell_type": "code",
   "execution_count": 32,
   "id": "f0a72f89-9ce6-4db0-a883-d1cb7829e006",
   "metadata": {},
   "outputs": [
    {
     "name": "stdout",
     "output_type": "stream",
     "text": [
      "Original List: ['abc123', '45def', 'ghi6jkl', '789']\n",
      "Numeric Strings: ['123', '45', '6', '789']\n"
     ]
    }
   ],
   "source": [
    "#Q.30. Create a program that removes all non-numeric characters from a list of strings using list comprehension.\n",
    "# Define a list of strings with non-numeric characters\n",
    "string_list = [\"abc123\", \"45def\", \"ghi6jkl\", \"789\"]\n",
    "\n",
    "# Use list comprehension to remove non-numeric characters\n",
    "numeric_strings = [''.join(char for char in s if char.isdigit()) for s in string_list]\n",
    "\n",
    "# Print the list of numeric strings\n",
    "print(\"Original List:\", string_list)\n",
    "print(\"Numeric Strings:\", numeric_strings)"
   ]
  },
  {
   "cell_type": "code",
   "execution_count": 33,
   "id": "2f745aa4-8dfb-4e37-bc25-5b9b43aff7c3",
   "metadata": {},
   "outputs": [
    {
     "name": "stdin",
     "output_type": "stream",
     "text": [
      "Enter an upper limit for prime number generation:  6\n"
     ]
    },
    {
     "name": "stdout",
     "output_type": "stream",
     "text": [
      "Prime numbers up to 6 : [2, 3, 5]\n"
     ]
    }
   ],
   "source": [
    "# CHALLENGE LEVEL:\n",
    "\n",
    "#Q.31. Write a program to generate a list of prime numbers using the Sieve of Eratosthenes algorithm and list comprehension.\n",
    "# Input: Get the upper limit for prime number generation\n",
    "upper_limit = int(input(\"Enter an upper limit for prime number generation: \"))\n",
    "\n",
    "# Create a boolean list to track prime numbers\n",
    "is_prime = [True] * (upper_limit + 1)\n",
    "is_prime[0] = is_prime[1] = False\n",
    "\n",
    "# Implement the Sieve of Eratosthenes algorithm\n",
    "for current_num in range(2, int(upper_limit**0.5) + 1):\n",
    "    if is_prime[current_num]:\n",
    "        for multiple in range(current_num * current_num, upper_limit + 1, current_num):\n",
    "            is_prime[multiple] = False\n",
    "\n",
    "# Use list comprehension to extract prime numbers\n",
    "prime_numbers = [num for num in range(2, upper_limit + 1) if is_prime[num]]\n",
    "\n",
    "# Print the list of prime numbers\n",
    "print(\"Prime numbers up to\", upper_limit, \":\", prime_numbers)"
   ]
  },
  {
   "cell_type": "code",
   "execution_count": 34,
   "id": "48d17b7b-912f-40ef-b3b4-3fc563c70de3",
   "metadata": {},
   "outputs": [
    {
     "name": "stdin",
     "output_type": "stream",
     "text": [
      "Enter an upper limit for Pythagorean triplets:  20\n"
     ]
    },
    {
     "name": "stdout",
     "output_type": "stream",
     "text": [
      "Pythagorean Triplets up to 20 : [(3, 4, 5), (5, 12, 13), (6, 8, 10), (8, 15, 17), (9, 12, 15), (12, 16, 20)]\n"
     ]
    }
   ],
   "source": [
    "#Q.32. Create a program that generates a list of all Pythagorean triplets up to a specified limit using list comprehension.\n",
    "# Input: Get the upper limit for Pythagorean triplets\n",
    "limit = int(input(\"Enter an upper limit for Pythagorean triplets: \"))\n",
    "\n",
    "# Use list comprehension to generate Pythagorean triplets\n",
    "pythagorean_triplets = [(a, b, c) for a in range(1, limit + 1) for b in range(a, limit + 1) for c in range(b, limit + 1) if a**2 + b**2 == c**2]\n",
    "\n",
    "# Print the list of Pythagorean triplets\n",
    "print(\"Pythagorean Triplets up to\", limit, \":\", pythagorean_triplets)"
   ]
  },
  {
   "cell_type": "code",
   "execution_count": 35,
   "id": "b30cb0f6-933a-4258-a5bb-dfea34268e2d",
   "metadata": {},
   "outputs": [
    {
     "name": "stdout",
     "output_type": "stream",
     "text": [
      "Combinations of two lists:\n",
      "(1, 'a')\n",
      "(1, 'b')\n",
      "(1, 'c')\n",
      "(2, 'a')\n",
      "(2, 'b')\n",
      "(2, 'c')\n",
      "(3, 'a')\n",
      "(3, 'b')\n",
      "(3, 'c')\n"
     ]
    }
   ],
   "source": [
    "#Q.33. Develop a program that generates a list of all possible combinations of two lists using list comprehension.\n",
    "# Define two lists\n",
    "list1 = [1, 2, 3]\n",
    "list2 = ['a', 'b', 'c']\n",
    "\n",
    "# Use list comprehension to generate all possible combinations\n",
    "combinations = [(x, y) for x in list1 for y in list2]\n",
    "\n",
    "# Print the list of combinations\n",
    "print(\"Combinations of two lists:\")\n",
    "for combination in combinations:\n",
    "    print(combination)"
   ]
  },
  {
   "cell_type": "code",
   "execution_count": 36,
   "id": "4c677f5b-5c56-4da9-91bf-2104d2e8a7ef",
   "metadata": {},
   "outputs": [
    {
     "name": "stdout",
     "output_type": "stream",
     "text": [
      "Numbers: [1, 2, 3, 4, 5, 2, 3, 3]\n",
      "Mean: 2.875\n",
      "Median: 3.0\n",
      "Mode: 3\n"
     ]
    }
   ],
   "source": [
    "#Q.34. Write a program that calculates the mean, median, and mode of a list of numbers using list comprehension.\n",
    "import statistics\n",
    "\n",
    "# Define a list of numbers\n",
    "numbers = [1, 2, 3, 4, 5, 2, 3, 3]\n",
    "\n",
    "# Calculate the mean using statistics.mean()\n",
    "mean = statistics.mean(numbers)\n",
    "\n",
    "# Calculate the median using statistics.median()\n",
    "median = statistics.median(numbers)\n",
    "\n",
    "# Calculate the mode using statistics.mode()\n",
    "# Note: statistics.mode may raise a StatisticsError if there is no unique mode.\n",
    "try:\n",
    "    mode = statistics.mode(numbers)\n",
    "except statistics.StatisticsError:\n",
    "    mode = \"No unique mode\"\n",
    "\n",
    "# Print the mean, median, and mode\n",
    "print(\"Numbers:\", numbers)\n",
    "print(\"Mean:\", mean)\n",
    "print(\"Median:\", median)\n",
    "print(\"Mode:\", mode)"
   ]
  },
  {
   "cell_type": "code",
   "execution_count": 37,
   "id": "a23fe96f-b2ed-4158-8cb3-bc4fbf91b4b1",
   "metadata": {},
   "outputs": [
    {
     "name": "stdin",
     "output_type": "stream",
     "text": [
      "Enter the number of rows for Pascal's triangle:  8\n"
     ]
    },
    {
     "name": "stdout",
     "output_type": "stream",
     "text": [
      "Pascal's Triangle:\n",
      "           1            \n",
      "          1 1           \n",
      "         1 2 1          \n",
      "        1 3 3 1         \n",
      "       1 4 6 4 1        \n",
      "     1 5 10 10 5 1      \n",
      "    1 6 15 20 15 6 1    \n",
      "  1 7 21 35 35 21 7 1   \n"
     ]
    }
   ],
   "source": [
    "#Q.35. Create a program that generates Pascal's triangle up to a specified number of rows using list comprehension.\n",
    "# Input: Get the number of rows for Pascal's triangle\n",
    "num_rows = int(input(\"Enter the number of rows for Pascal's triangle: \"))\n",
    "\n",
    "# Function to calculate the next row of Pascal's triangle\n",
    "def generate_next_row(prev_row):\n",
    "    next_row = [1]\n",
    "    for i in range(1, len(prev_row)):\n",
    "        next_row.append(prev_row[i - 1] + prev_row[i])\n",
    "    next_row.append(1)\n",
    "    return next_row\n",
    "\n",
    "# Initialize Pascal's triangle with the first row\n",
    "pascals_triangle = [[1]]\n",
    "\n",
    "# Generate the remaining rows of Pascal's triangle\n",
    "while len(pascals_triangle) < num_rows:\n",
    "    next_row = generate_next_row(pascals_triangle[-1])\n",
    "    pascals_triangle.append(next_row)\n",
    "\n",
    "# Print Pascal's triangle\n",
    "print(\"Pascal's Triangle:\")\n",
    "for row in pascals_triangle:\n",
    "    print(\" \".join(map(str, row)).center(num_rows * 3))"
   ]
  },
  {
   "cell_type": "code",
   "execution_count": 38,
   "id": "4a507a9a-99db-491a-89b7-c56dc5c3404b",
   "metadata": {},
   "outputs": [
    {
     "name": "stdout",
     "output_type": "stream",
     "text": [
      "Factorial Sums for Numbers 1 to 5: [1, 2, 6, 6, 3]\n"
     ]
    }
   ],
   "source": [
    "#Q.36. Develop a program that calculates the sum of the digits of a factorial of numbers from 1 to 5 using list comprehension.\n",
    "# Function to calculate the factorial of a number\n",
    "def factorial(n):\n",
    "    if n == 0:\n",
    "        return 1\n",
    "    else:\n",
    "        return n * factorial(n - 1)\n",
    "\n",
    "# Use list comprehension to calculate the sum of digits of factorials\n",
    "factorial_sums = [sum(int(digit) for digit in str(factorial(n))) for n in range(1, 6)]\n",
    "\n",
    "# Print the list of sums\n",
    "print(\"Factorial Sums for Numbers 1 to 5:\", factorial_sums)"
   ]
  },
  {
   "cell_type": "code",
   "execution_count": 39,
   "id": "63fed0c9-cb85-4a78-b1f2-302bbf157ff7",
   "metadata": {},
   "outputs": [
    {
     "name": "stdin",
     "output_type": "stream",
     "text": [
      "Enter a sentence:  we all are humans\n"
     ]
    },
    {
     "name": "stdout",
     "output_type": "stream",
     "text": [
      "Longest word in the sentence: humans\n"
     ]
    }
   ],
   "source": [
    "#Q.37. Write a program that finds the longest word in a sentence using list comprehension.\n",
    "# Input: Get a sentence from the user\n",
    "sentence = input(\"Enter a sentence: \")\n",
    "\n",
    "# Split the sentence into words using list comprehension\n",
    "words = sentence.split()\n",
    "\n",
    "# Find the longest word using list comprehension\n",
    "longest_word = max(words, key=lambda word: len(word))\n",
    "\n",
    "# Print the longest word\n",
    "print(\"Longest word in the sentence:\", longest_word)"
   ]
  },
  {
   "cell_type": "code",
   "execution_count": 40,
   "id": "8afd27db-5814-4866-b08f-798c7143b1bc",
   "metadata": {},
   "outputs": [
    {
     "name": "stdout",
     "output_type": "stream",
     "text": [
      "Original List: ['hello', 'world', 'apple', 'banana', 'programming']\n",
      "Strings with more than three vowels: []\n"
     ]
    }
   ],
   "source": [
    "#Q.38. Create a program that filters a list of strings to include only those with more than three vowels using list comprehension.\n",
    "# Define a list of strings\n",
    "string_list = [\"hello\", \"world\", \"apple\", \"banana\", \"programming\"]\n",
    "\n",
    "# Function to count vowels in a string\n",
    "def count_vowels(s):\n",
    "    vowels = \"AEIOUaeiou\"\n",
    "    return sum(1 for char in s if char in vowels)\n",
    "\n",
    "# Use list comprehension to filter strings with more than three vowels\n",
    "filtered_strings = [s for s in string_list if count_vowels(s) > 3]\n",
    "\n",
    "# Print the filtered list\n",
    "print(\"Original List:\", string_list)\n",
    "print(\"Strings with more than three vowels:\", filtered_strings)"
   ]
  },
  {
   "cell_type": "code",
   "execution_count": 41,
   "id": "3d4cbf99-32cb-4812-823d-4a92f9ad9a13",
   "metadata": {},
   "outputs": [
    {
     "name": "stdout",
     "output_type": "stream",
     "text": [
      "Total sum of digits from 1 to 1000: 13501\n"
     ]
    }
   ],
   "source": [
    "#Q.39. Develop a program that calculates the sum of the digits of numbers from 1 to 1000 using list comprehension.\n",
    "# Use list comprehension to calculate the sum of digits for numbers from 1 to 1000\n",
    "digit_sums = [sum(int(digit) for digit in str(num)) for num in range(1, 1001)]\n",
    "\n",
    "# Calculate the total sum of digit sums\n",
    "total_sum = sum(digit_sums)\n",
    "\n",
    "# Print the total sum\n",
    "print(\"Total sum of digits from 1 to 1000:\", total_sum)"
   ]
  },
  {
   "cell_type": "code",
   "execution_count": 42,
   "id": "bc8305b8-ec50-4790-ba74-63e2164518e7",
   "metadata": {},
   "outputs": [
    {
     "name": "stdin",
     "output_type": "stream",
     "text": [
      "Enter an upper limit for prime palindromic numbers:  9\n"
     ]
    },
    {
     "name": "stdout",
     "output_type": "stream",
     "text": [
      "Prime Palindromic Numbers up to 9 : [2, 3, 5, 7]\n"
     ]
    }
   ],
   "source": [
    "#Q.40. Write a program that generates a list of prime palindromic numbers using list comprehension.\n",
    "# Function to check if a number is prime\n",
    "def is_prime(num):\n",
    "    if num <= 1:\n",
    "        return False\n",
    "    if num <= 3:\n",
    "        return True\n",
    "    if num % 2 == 0 or num % 3 == 0:\n",
    "        return False\n",
    "    i = 5\n",
    "    while i * i <= num:\n",
    "        if num % i == 0 or num % (i + 2) == 0:\n",
    "            return False\n",
    "        i += 6\n",
    "    return True\n",
    "\n",
    "# Function to check if a number is palindromic\n",
    "def is_palindromic(num):\n",
    "    return str(num) == str(num)[::-1]\n",
    "\n",
    "# Input: Get the upper limit for prime palindromic numbers\n",
    "upper_limit = int(input(\"Enter an upper limit for prime palindromic numbers: \"))\n",
    "\n",
    "# Use list comprehension to generate prime palindromic numbers\n",
    "prime_palindromic_numbers = [num for num in range(1, upper_limit) if is_prime(num) and is_palindromic(num)]\n",
    "\n",
    "# Print the list of prime palindromic numbers\n",
    "print(\"Prime Palindromic Numbers up to\", upper_limit, \":\", prime_palindromic_numbers)"
   ]
  },
  {
   "cell_type": "code",
   "execution_count": 1,
   "id": "89d024ee-fa2b-4050-a907-61e5719b127a",
   "metadata": {},
   "outputs": [],
   "source": [
    "#end"
   ]
  },
  {
   "cell_type": "code",
   "execution_count": null,
   "id": "0364056f-2540-449e-88f7-4fae095f3668",
   "metadata": {},
   "outputs": [],
   "source": []
  }
 ],
 "metadata": {
  "kernelspec": {
   "display_name": "Python 3 (ipykernel)",
   "language": "python",
   "name": "python3"
  },
  "language_info": {
   "codemirror_mode": {
    "name": "ipython",
    "version": 3
   },
   "file_extension": ".py",
   "mimetype": "text/x-python",
   "name": "python",
   "nbconvert_exporter": "python",
   "pygments_lexer": "ipython3",
   "version": "3.10.8"
  }
 },
 "nbformat": 4,
 "nbformat_minor": 5
}
